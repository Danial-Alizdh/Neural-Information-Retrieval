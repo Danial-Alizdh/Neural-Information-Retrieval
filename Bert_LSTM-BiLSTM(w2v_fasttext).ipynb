{
 "cells": [
  {
   "attachments": {},
   "cell_type": "markdown",
   "metadata": {},
   "source": [
    "# Library"
   ]
  },
  {
   "cell_type": "code",
   "execution_count": null,
   "metadata": {},
   "outputs": [],
   "source": [
    "import numpy as np\n",
    "import pandas as pd\n",
    "import csv\n",
    "from math import sqrt, pow\n",
    "from time import time\n",
    "\n",
    "from sentence_transformers import SentenceTransformer\n",
    "from scipy import spatial\n",
    "from gensim.parsing.preprocessing import preprocess_string, remove_stopwords, stem_text\n",
    "from gensim.utils import simple_preprocess, tokenize\n",
    "from gensim.models import Word2Vec, FastText, KeyedVectors\n",
    "\n",
    "import tensorflow as tf\n",
    "from keras import backend as K\n",
    "from keras.preprocessing.text import Tokenizer\n",
    "from keras_preprocessing.sequence import pad_sequences\n",
    "from keras.models import Sequential\n",
    "from keras.layers import Dense, Input, LSTM, Embedding, Dropout, Activation, concatenate, Lambda, Flatten, Bidirectional\n",
    "from keras.callbacks import ModelCheckpoint\n",
    "from tensorflow.keras.utils import to_categorical\n",
    "from tensorflow.python.keras import backend as K\n",
    "from keras.models import Model\n",
    "from tensorflow.keras.layers import BatchNormalization\n",
    "from keras.callbacks import EarlyStopping, ModelCheckpoint\n",
    "\n",
    "from sklearn.decomposition import PCA\n",
    "\n",
    "from matplotlib import pyplot as plt\n",
    "import pickle"
   ]
  },
  {
   "attachments": {},
   "cell_type": "markdown",
   "metadata": {},
   "source": [
    "# Public Code"
   ]
  },
  {
   "cell_type": "code",
   "execution_count": null,
   "metadata": {},
   "outputs": [],
   "source": [
    "test_data_AD = './Data/test_data.csv'\n",
    "train_data_AD = './Data/train_data.csv'\n",
    "valid_data_AD = './Data/valid_data.csv'"
   ]
  },
  {
   "cell_type": "code",
   "execution_count": null,
   "metadata": {},
   "outputs": [],
   "source": [
    "#Test Data\n",
    "\n",
    "file = open(test_data_AD)\n",
    "\n",
    "csvreader = csv.reader(file)\n",
    "\n",
    "header = []\n",
    "header = next(csvreader)\n",
    "header\n",
    "\n",
    "test_data = []\n",
    "for row in csvreader:\n",
    "        test_data.append(row)\n",
    "test_data\n",
    "\n",
    "file.close()"
   ]
  },
  {
   "cell_type": "code",
   "execution_count": null,
   "metadata": {},
   "outputs": [],
   "source": [
    "#Train Data\n",
    "\n",
    "file = open(train_data_AD)\n",
    "\n",
    "csvreader = csv.reader(file)\n",
    "\n",
    "header = []\n",
    "header = next(csvreader)\n",
    "header\n",
    "\n",
    "train_data = []\n",
    "for row in csvreader:\n",
    "        train_data.append(row)\n",
    "train_data\n",
    "\n",
    "file.close()"
   ]
  },
  {
   "cell_type": "code",
   "execution_count": null,
   "metadata": {},
   "outputs": [],
   "source": [
    "#Validation Data\n",
    "\n",
    "file = open(valid_data_AD)\n",
    "\n",
    "csvreader = csv.reader(file)\n",
    "\n",
    "header = []\n",
    "header = next(csvreader)\n",
    "header\n",
    "\n",
    "valid_data = []\n",
    "for row in csvreader:\n",
    "        valid_data.append(row)\n",
    "valid_data\n",
    "\n",
    "file.close()"
   ]
  },
  {
   "cell_type": "markdown",
   "metadata": {},
   "source": [
    "## Unique Train data"
   ]
  },
  {
   "cell_type": "code",
   "execution_count": null,
   "metadata": {},
   "outputs": [
    {
     "name": "stdout",
     "output_type": "stream",
     "text": [
      "37250\n",
      "16663\n"
     ]
    }
   ],
   "source": [
    "qid2 = []\n",
    "for i in range(len(train_data)) :\n",
    "    qid2.append(train_data[i][2])\n",
    "\n",
    "unique_res = list(np.unique(qid2))\n",
    "\n",
    "train_sentence = []\n",
    "for id in unique_res :\n",
    "    index = qid2.index(id)\n",
    "    train_sentence.append(train_data[index][4].lower())\n",
    "\n",
    "print(len(qid2))\n",
    "print(len(train_sentence))"
   ]
  },
  {
   "cell_type": "code",
   "execution_count": null,
   "metadata": {},
   "outputs": [
    {
     "name": "stdout",
     "output_type": "stream",
     "text": [
      "16641\n",
      "16641\n"
     ]
    }
   ],
   "source": [
    "indexes = [train_sentence.index(x) for x in set(train_sentence)]\n",
    "train_sentence = list(set(train_sentence))\n",
    "\n",
    "print(len(indexes))\n",
    "print(len(train_sentence))"
   ]
  },
  {
   "cell_type": "code",
   "execution_count": null,
   "metadata": {},
   "outputs": [
    {
     "data": {
      "text/plain": [
       "16641"
      ]
     },
     "metadata": {},
     "output_type": "display_data"
    }
   ],
   "source": [
    "unique_qid2 = []\n",
    "for i in indexes :\n",
    "    unique_qid2.append(unique_res[i])\n",
    "\n",
    "len(unique_qid2)"
   ]
  },
  {
   "cell_type": "markdown",
   "metadata": {},
   "source": [
    "## Unique Test questions"
   ]
  },
  {
   "cell_type": "code",
   "execution_count": null,
   "metadata": {},
   "outputs": [
    {
     "name": "stdout",
     "output_type": "stream",
     "text": [
      "980\n",
      "146\n"
     ]
    }
   ],
   "source": [
    "qid1 = []\n",
    "for i in range(len(test_data)) :\n",
    "    qid1.append(test_data[i][1])\n",
    "\n",
    "unique_qid1 = list(np.unique(qid1))\n",
    "\n",
    "test_sentence = []\n",
    "for id in unique_qid1 :\n",
    "    index = qid1.index(id)\n",
    "    test_sentence.append(test_data[index][3].lower())\n",
    "\n",
    "print(len(qid1))\n",
    "print(len(test_sentence))"
   ]
  },
  {
   "cell_type": "markdown",
   "metadata": {},
   "source": [
    "## Unique Valid questions"
   ]
  },
  {
   "cell_type": "code",
   "execution_count": null,
   "metadata": {},
   "outputs": [
    {
     "name": "stdout",
     "output_type": "stream",
     "text": [
      "173\n"
     ]
    }
   ],
   "source": [
    "qid3 = []\n",
    "for i in range(len(valid_data)) :\n",
    "    qid3.append(valid_data[i][1])\n",
    "\n",
    "qid3 = list(np.unique(qid3))\n",
    "\n",
    "print(len(qid3))"
   ]
  },
  {
   "cell_type": "markdown",
   "metadata": {},
   "source": [
    "## Assessment"
   ]
  },
  {
   "cell_type": "markdown",
   "metadata": {},
   "source": [
    "#### MAP"
   ]
  },
  {
   "cell_type": "code",
   "execution_count": null,
   "metadata": {},
   "outputs": [],
   "source": [
    "def MAP(precision) :\n",
    "    if len(precision) == 0 :\n",
    "        return 0\n",
    "    \n",
    "    s = 0\n",
    "    for pre in precision :\n",
    "        if len(pre) > 0 :\n",
    "            x = 0\n",
    "            for i in pre :\n",
    "                x += i\n",
    "            s += ( x / len(pre) )\n",
    "        \n",
    "    return s / len(precision)"
   ]
  },
  {
   "cell_type": "markdown",
   "metadata": {},
   "source": [
    "#### P@k"
   ]
  },
  {
   "cell_type": "code",
   "execution_count": null,
   "metadata": {},
   "outputs": [],
   "source": [
    "def Precision5(precision) :\n",
    "    if len(precision) < 5 :\n",
    "        return 0\n",
    "    return precision[4]"
   ]
  },
  {
   "cell_type": "code",
   "execution_count": null,
   "metadata": {},
   "outputs": [],
   "source": [
    "def Precision10(precision) :\n",
    "    if len(precision) < 10 :\n",
    "        return 0\n",
    "    return precision[9]"
   ]
  },
  {
   "cell_type": "markdown",
   "metadata": {},
   "source": [
    "#### MRR"
   ]
  },
  {
   "cell_type": "code",
   "execution_count": null,
   "metadata": {},
   "outputs": [],
   "source": [
    "def MRR(reciprocal_rank, size) :\n",
    "    if len(reciprocal_rank) == 0 :\n",
    "        return 0\n",
    "    \n",
    "    s = 0\n",
    "    for rr in reciprocal_rank :\n",
    "        s += rr\n",
    "\n",
    "    return s / size"
   ]
  },
  {
   "cell_type": "markdown",
   "metadata": {},
   "source": [
    "#### Calculate"
   ]
  },
  {
   "cell_type": "code",
   "execution_count": null,
   "metadata": {},
   "outputs": [],
   "source": [
    "def assessment(vector) :\n",
    "    precision = []\n",
    "    reciprocal_rank = []\n",
    "    for i in range(len(vector)) :\n",
    "        sort_index = np.argsort(vector[i])[::-1]\n",
    "        sort_index = sort_index[0:10]\n",
    "\n",
    "        index_pos_list = [ j for j in range(len(qid1)) if qid1[j] == unique_qid1[i] ]\n",
    "        test_s = [test_data[j][-2].lower() for j in index_pos_list]\n",
    "    \n",
    "        pr = []\n",
    "        sum = 0\n",
    "        h = 0\n",
    "        flag = True\n",
    "        for index in sort_index :\n",
    "            for z in range(len(train_data)) :\n",
    "              if qid2[z] == unique_qid2[index] :\n",
    "                train_s = train_data[z][-2].lower()\n",
    "                if train_s in test_s :\n",
    "                    sum += 1\n",
    "                    pr.append(sum/(h + 1))\n",
    "                    if flag :\n",
    "                        flag = False\n",
    "                        reciprocal_rank.append(1/(h + 1))\n",
    "                h += 1\n",
    "        precision.append(pr)\n",
    "    \n",
    "    \n",
    "    precision5 = []\n",
    "    precision10 = []\n",
    "    mAP = []\n",
    "    mRR = []\n",
    "    for i in range(len(precision)) :\n",
    "        precision5.append(Precision5(precision[i]))\n",
    "        precision10.append(Precision10(precision[i]))\n",
    "    \n",
    "    mAP.append(MAP(precision))\n",
    "    mRR.append(MRR(reciprocal_rank, len(precision)))\n",
    "\n",
    "    return precision5, precision10, mAP, mRR"
   ]
  },
  {
   "cell_type": "markdown",
   "metadata": {},
   "source": [
    "## Preprocess"
   ]
  },
  {
   "cell_type": "code",
   "execution_count": null,
   "metadata": {},
   "outputs": [],
   "source": [
    "def remove_stop_words(sentences) :\n",
    "    for i in range(len(sentences)) :\n",
    "        sentences[i] = remove_stopwords(sentences[i].lower())\n",
    "    \n",
    "    return sentences"
   ]
  },
  {
   "attachments": {},
   "cell_type": "markdown",
   "metadata": {},
   "source": [
    "## Method"
   ]
  },
  {
   "cell_type": "code",
   "execution_count": null,
   "metadata": {},
   "outputs": [],
   "source": [
    "filePath = './result/'\n",
    "\n",
    "def save_list(myList, name) :\n",
    "  open_file = open(filePath + name, \"wb\")\n",
    "  pickle.dump(myList, open_file)\n",
    "  open_file.close()\n",
    "\n",
    "def load_list(name) :\n",
    "  open_file = open(filePath + name, \"rb\")\n",
    "  loaded_list = pickle.load(open_file)\n",
    "  open_file.close()\n",
    "  return loaded_list"
   ]
  },
  {
   "attachments": {},
   "cell_type": "markdown",
   "metadata": {},
   "source": [
    "# Bert"
   ]
  },
  {
   "cell_type": "markdown",
   "metadata": {},
   "source": [
    "### Methods"
   ]
  },
  {
   "cell_type": "code",
   "execution_count": null,
   "metadata": {},
   "outputs": [],
   "source": [
    "def squared_sum(x):\n",
    "  \"\"\" return 3 rounded square rooted value \"\"\"\n",
    " \n",
    "  return round(sqrt(sum([a*a for a in x])),3)\n",
    " \n",
    "def euclidean_distance(x,y):\n",
    "  \"\"\" return euclidean distance between two lists \"\"\"\n",
    " \n",
    "  return sqrt(sum(pow(a-b,2) for a, b in zip(x, y)))"
   ]
  },
  {
   "cell_type": "code",
   "execution_count": null,
   "metadata": {},
   "outputs": [],
   "source": [
    "def cosine_similarity(x,y):\n",
    "  \"\"\" return cosine similarity between two lists \"\"\"\n",
    " \n",
    "  numerator = sum(a*b for a,b in zip(x,y))\n",
    "  denominator = squared_sum(x)*squared_sum(y)\n",
    "  return round(numerator/float(denominator),3)"
   ]
  },
  {
   "cell_type": "code",
   "execution_count": null,
   "metadata": {},
   "outputs": [],
   "source": [
    "def bert(sentences) :\n",
    "  model = SentenceTransformer('bert-base-nli-mean-tokens')\n",
    "\n",
    "  sentence_embeddings = model.encode(sentences)\n",
    "\n",
    "  return sentence_embeddings"
   ]
  },
  {
   "cell_type": "markdown",
   "metadata": {},
   "source": [
    "### Calculate"
   ]
  },
  {
   "cell_type": "code",
   "execution_count": null,
   "metadata": {},
   "outputs": [],
   "source": [
    "train_sentences = remove_stop_words(train_sentence)\n",
    "\n",
    "#se : sentence_embeddings\n",
    "train_se = bert(train_sentences)"
   ]
  },
  {
   "cell_type": "code",
   "execution_count": null,
   "metadata": {},
   "outputs": [],
   "source": [
    "test_sentences = remove_stop_words(test_sentence)\n",
    "\n",
    "#se : sentence_embeddings\n",
    "test_se = bert(test_sentences)"
   ]
  },
  {
   "cell_type": "code",
   "execution_count": null,
   "metadata": {},
   "outputs": [],
   "source": [
    "cos = []\n",
    "for test in test_se :\n",
    "  c = []\n",
    "  for train in train_se :\n",
    "    c.append(cosine_similarity(test, train))\n",
    "  \n",
    "  cos.append(c)"
   ]
  },
  {
   "cell_type": "code",
   "execution_count": null,
   "metadata": {},
   "outputs": [],
   "source": [
    "save_list(cos, \"_cos\")"
   ]
  },
  {
   "cell_type": "code",
   "execution_count": null,
   "metadata": {},
   "outputs": [],
   "source": [
    "precision5, precision10, mAP, mRR = assessment(cos)"
   ]
  },
  {
   "cell_type": "code",
   "execution_count": null,
   "metadata": {},
   "outputs": [],
   "source": [
    "save_list(precision5, \"_p05\")\n",
    "save_list(precision10, \"_p10\")\n",
    "save_list(mAP, \"_MAP\")\n",
    "save_list(mRR, \"_MRR\")"
   ]
  },
  {
   "cell_type": "code",
   "execution_count": null,
   "metadata": {},
   "outputs": [
    {
     "data": {
      "image/png": "[encoded data removed]",
      "text/plain": [
       "<Figure size 640x480 with 1 Axes>"
      ]
     },
     "metadata": {},
     "output_type": "display_data"
    }
   ],
   "source": [
    "xpoints = unique_qid1\n",
    "ypoints = precision5\n",
    "fig, ax = plt.subplots()\n",
    "plt.plot(xpoints, ypoints)\n",
    "plt.xlabel('Test qid1')\n",
    "plt.ylabel('Precision')\n",
    "plt.title('Bert - Precision@5')\n",
    "plt.show()\n",
    "fig.savefig(\"bert_precision5.svg\", dpi=1200)"
   ]
  },
  {
   "attachments": {},
   "cell_type": "markdown",
   "metadata": {},
   "source": [
    "# Neural Network"
   ]
  },
  {
   "attachments": {},
   "cell_type": "markdown",
   "metadata": {},
   "source": [
    "## Word2Vecotr"
   ]
  },
  {
   "cell_type": "code",
   "execution_count": null,
   "metadata": {},
   "outputs": [],
   "source": [
    "train_texts_1 = []\n",
    "train_texts_2 = []\n",
    "train_labels = []\n",
    "train_ids = []\n",
    "\n",
    "qid2 = []\n",
    "for i in range(len(train_data)) :\n",
    "    qid2.append(train_data[i][2])\n",
    "\n",
    "unique_res = list(np.unique(qid2))\n",
    "\n",
    "for id in unique_res :\n",
    "    index = qid2.index(id)\n",
    "    train = train_data[index]\n",
    "    train_ids.append(train[0])\n",
    "    train_texts_1.append(remove_stopwords(train[3].lower()))\n",
    "    train_texts_2.append(remove_stopwords(train[4].lower()))\n",
    "    train_labels.append(int(train[5]))\n",
    "\n",
    "print('Found %s texts in train.csv' % len(train_texts_2))\n",
    "\n",
    "valid_texts_1 = []\n",
    "valid_texts_2 = []\n",
    "valid_labels = []\n",
    "valid_ids = []\n",
    "\n",
    "for valid in valid_data :\n",
    "    valid_ids.append(valid[0])\n",
    "    valid_texts_1.append(remove_stopwords(valid[3].lower()))\n",
    "    valid_texts_2.append(remove_stopwords(valid[4].lower()))\n",
    "    valid_labels.append(int(valid[5]))\n",
    "\n",
    "print('Found %s texts in valid.csv' % len(valid_texts_2))\n",
    "\n",
    "texts_1 = []\n",
    "texts_2 = []\n",
    "labels = []\n",
    "ids = []\n",
    "\n",
    "texts_1.extend(train_texts_1)\n",
    "texts_1.extend(valid_texts_1)\n",
    "\n",
    "texts_2.extend(train_texts_2)\n",
    "texts_2.extend(valid_texts_2)\n",
    "\n",
    "labels.extend(train_labels)\n",
    "labels.extend(valid_labels)\n",
    "\n",
    "ids.extend(train_ids)\n",
    "ids.extend(valid_ids)\n",
    "\n",
    "test_texts_1 = []\n",
    "test_texts_2 = []\n",
    "test_labels = []\n",
    "test_ids = []\n",
    "\n",
    "qid1 = []\n",
    "for i in range(len(test_data)) :\n",
    "    qid1.append(test_data[i][1])\n",
    "unique_qid1 = list(np.unique(qid1))\n",
    "for id in unique_qid1 :\n",
    "    index = qid1.index(id)\n",
    "    test = test_data[index]\n",
    "    test_ids.append(test[0])\n",
    "    test_texts_1.append(remove_stopwords(test[3].lower()))\n",
    "    test_texts_2.append(remove_stopwords(test[4].lower()))\n",
    "    test_labels.append(int(test[5]))\n",
    "\n",
    "print('Found %s texts in test.csv' % len(test_texts_1))\n",
    "\n",
    "def remove_stop_words(document) :\n",
    "    tokens = [list(tokenize(doc, lower=True)) for doc in document]\n",
    "    tokens = [preprocess_string(\" \".join(doc), [remove_stopwords, stem_text]) for doc in tokens]\n",
    "    return tokens\n",
    "\n",
    "def remove_stop_words2(sentences) :\n",
    "    for i in range(len(sentences)) :\n",
    "        sentences[i] = remove_stopwords(sentences[i].lower())\n",
    "    \n",
    "    return sentences\n",
    "\n",
    "MAX_SEQUENCE_LENGTH = 100\n",
    "MAX_NB_WORDS = 30000\n",
    "FEATURE_DIMENSION = 100\n",
    "MIN_COUNT = 10\n",
    "WINDOW = 5\n",
    "EPOCHS = 20\n",
    "BATCH_SIZE = 256\n",
    "VALIDATION_SPLIT = 0.1\n",
    "\n",
    "text_corpus = []\n",
    "text_corpus.extend(texts_1)\n",
    "text_corpus.extend(texts_2)\n",
    "text_corpus.extend(test_texts_1)\n",
    "text_corpus.extend(test_texts_2)\n",
    "\n",
    "class ProcessedText:\n",
    "    def __init__(self, text):\n",
    "        self.text = text\n",
    "\n",
    "    def __iter__(self):\n",
    "        for line in self.text:\n",
    "            yield simple_preprocess(line)\n",
    "            \n",
    "wv_model = Word2Vec(vector_size=FEATURE_DIMENSION, window=WINDOW, min_count=MIN_COUNT, workers=4)\n",
    "wv_model.build_vocab(ProcessedText(text_corpus), update=False)\n",
    "wv_model.train(ProcessedText(text_corpus), total_examples=wv_model.corpus_count, epochs=EPOCHS)\n",
    "\n",
    "print('Found %s word vectors of word2vec' % len(list(wv_model.wv.index_to_key)))\n",
    "\n",
    "tokenizer = Tokenizer(num_words=MAX_NB_WORDS)\n",
    "tokenizer.fit_on_texts(texts_1 + texts_2 + test_texts_1 + test_texts_2)\n",
    "\n",
    "sequences_1 = tokenizer.texts_to_sequences(texts_1)\n",
    "sequences_2 = tokenizer.texts_to_sequences(texts_2)\n",
    "test_sequences_1 = tokenizer.texts_to_sequences(test_texts_1)\n",
    "test_sequences_2 = tokenizer.texts_to_sequences(test_texts_2)\n",
    "\n",
    "word_index = tokenizer.word_index\n",
    "print('Found %s unique tokens' % len(word_index))\n",
    "\n",
    "data_1 = pad_sequences(sequences_1, maxlen=MAX_SEQUENCE_LENGTH)\n",
    "data_2 = pad_sequences(sequences_2, maxlen=MAX_SEQUENCE_LENGTH)\n",
    "labels = np.array(labels)\n",
    "ids = np.array(ids)\n",
    "print('Shape of data tensor:', data_1.shape)\n",
    "print('Shape of label tensor:', labels.shape)\n",
    "\n",
    "test_data_1 = pad_sequences(test_sequences_1, maxlen=MAX_SEQUENCE_LENGTH)\n",
    "test_data_2 = pad_sequences(test_sequences_2, maxlen=MAX_SEQUENCE_LENGTH)\n",
    "test_ids = np.array(test_ids)\n",
    "test_labels = np.array(test_labels)\n",
    "\n",
    "nb_words = min(MAX_NB_WORDS, len(word_index))+1\n",
    "\n",
    "embedding_matrix = np.zeros((nb_words, FEATURE_DIMENSION))\n",
    "for word, i in word_index.items():\n",
    "    if word in list(wv_model.wv.index_to_key) :\n",
    "        embedding_matrix[i] = wv_model.wv[word]\n",
    "        \n",
    "print('Null word embeddings: %d' % np.sum(np.sum(embedding_matrix, axis=1) == 0))\n"
   ]
  },
  {
   "attachments": {},
   "cell_type": "markdown",
   "metadata": {},
   "source": [
    "### Word2Vector LSTM"
   ]
  },
  {
   "cell_type": "code",
   "execution_count": null,
   "metadata": {},
   "outputs": [],
   "source": [
    "num_lstm = np.random.randint(175, 275)\n",
    "num_dense = np.random.randint(100, 150)\n",
    "rate_drop_lstm = 0.15 + np.random.rand() * 0.25\n",
    "rate_drop_dense = 0.15 + np.random.rand() * 0.25\n",
    "\n",
    "embedding_layer = Embedding(input_dim=nb_words, \n",
    "                        output_dim=FEATURE_DIMENSION, \n",
    "                        weights=[embedding_matrix],\n",
    "                        input_length=MAX_SEQUENCE_LENGTH,\n",
    "                        trainable=False)\n",
    "\n",
    "lstm_layer = LSTM(units=256, return_sequences=True)\n",
    "\n",
    "sequence_1_input = Input(shape=(MAX_SEQUENCE_LENGTH,), dtype='int32')\n",
    "embedded_sequences_1 = embedding_layer(sequence_1_input)\n",
    "x1 = lstm_layer(embedded_sequences_1)\n",
    "\n",
    "sequence_2_input = Input(shape=(MAX_SEQUENCE_LENGTH,), dtype='int32')\n",
    "embedded_sequences_2 = embedding_layer(sequence_2_input)\n",
    "y1 = lstm_layer(embedded_sequences_2)\n",
    "\n",
    "merged = concatenate([x1, y1])\n",
    "merged = Dropout(rate_drop_dense)(merged)\n",
    "merged = BatchNormalization()(merged)\n",
    "\n",
    "merged = Dense(num_dense, activation='relu')(merged)\n",
    "merged = Dropout(rate_drop_dense)(merged)\n",
    "merged = BatchNormalization()(merged)\n",
    "\n",
    "preds = Dense(1, activation='sigmoid')(merged)\n",
    "\n",
    "model = Model(inputs=[sequence_1_input, sequence_2_input], \\\n",
    "        outputs=preds)\n",
    "\n",
    "model.compile(loss='mean_squared_error',\n",
    "        optimizer=tf.keras.optimizers.Adam(),\n",
    "        metrics=['accuracy'])\n",
    "\n",
    "print(model.summary())\n",
    "\n",
    "model.fit([data_1, data_2], labels, \n",
    "        validation_split = VALIDATION_SPLIT, \n",
    "        epochs = EPOCHS,\n",
    "        shuffle = True, \n",
    "        batch_size = BATCH_SIZE)\n",
    "\n",
    "model.save('./result/wv_lstm.h5')\n",
    "print(\"Mission completed\")"
   ]
  },
  {
   "attachments": {},
   "cell_type": "markdown",
   "metadata": {},
   "source": [
    "### Word2Vector Bi-LSTM"
   ]
  },
  {
   "cell_type": "code",
   "execution_count": null,
   "metadata": {},
   "outputs": [],
   "source": [
    "first_sent_in = Input(shape=(MAX_SEQUENCE_LENGTH,), dtype='int32')\n",
    "second_sent_in = Input(shape=(MAX_SEQUENCE_LENGTH,), dtype='int32')\n",
    "\n",
    "embedding_layer =  Embedding(input_dim=nb_words, \n",
    "                        output_dim=FEATURE_DIMENSION, \n",
    "                        weights=[embedding_matrix],\n",
    "                        input_length=MAX_SEQUENCE_LENGTH, \n",
    "                        trainable=True, \n",
    "                        mask_zero=True)\n",
    "\n",
    "\n",
    "first_sent_embedding = embedding_layer(first_sent_in)\n",
    "second_sent_embedding = embedding_layer(second_sent_in)\n",
    "\n",
    "bilstm =  Bidirectional(LSTM(units=256, return_sequences=False))\n",
    "\n",
    "first_sent_encoded = bilstm(first_sent_embedding)\n",
    "second_sent_encoded = bilstm(second_sent_embedding)\n",
    "\n",
    "function = lambda x: 1 - K.abs(x[0] - x[1])\n",
    "output_shape = lambda x: x[0]\n",
    "merged = Lambda(function=function, \n",
    "            output_shape=output_shape, \n",
    "            name='L1_distance')([first_sent_encoded, second_sent_encoded])\n",
    "        \n",
    "predictions = Dense(1, activation='sigmoid', name='classification_layer')(merged)\n",
    "\n",
    "model = Model([first_sent_in, second_sent_in], predictions)\n",
    "\n",
    "model.compile(loss = 'binary_crossentropy', \n",
    "            optimizer = \"adam\", \n",
    "            metrics=[\"accuracy\"])\n",
    "\n",
    "print(model.summary())\n",
    "\n",
    "model.fit([data_1, data_2], labels, \n",
    "        validation_split = VALIDATION_SPLIT, \n",
    "        epochs = EPOCHS,\n",
    "        shuffle = True, \n",
    "        batch_size = BATCH_SIZE)\n",
    "\n",
    "model.save('./result/wv_bi_lstm.h5')\n",
    "print(\"Mission completed\")"
   ]
  },
  {
   "attachments": {},
   "cell_type": "markdown",
   "metadata": {},
   "source": [
    "## FastText"
   ]
  },
  {
   "cell_type": "code",
   "execution_count": null,
   "metadata": {},
   "outputs": [],
   "source": [
    "train_texts_1 = []\n",
    "train_texts_2 = []\n",
    "train_labels = []\n",
    "train_ids = []\n",
    "\n",
    "qid2 = []\n",
    "for i in range(len(train_data)) :\n",
    "    qid2.append(train_data[i][2])\n",
    "\n",
    "unique_res = list(np.unique(qid2))\n",
    "\n",
    "for id in unique_res :\n",
    "    index = qid2.index(id)\n",
    "    train = train_data[index]\n",
    "    train_ids.append(train[0])\n",
    "    train_texts_1.append(remove_stopwords(train[3].lower()))\n",
    "    train_texts_2.append(remove_stopwords(train[4].lower()))\n",
    "    train_labels.append(int(train[5]))\n",
    "\n",
    "print('Found %s texts in train.csv' % len(train_texts_2))\n",
    "\n",
    "valid_texts_1 = []\n",
    "valid_texts_2 = []\n",
    "valid_labels = []\n",
    "valid_ids = []\n",
    "\n",
    "for valid in valid_data :\n",
    "    valid_ids.append(valid[0])\n",
    "    valid_texts_1.append(remove_stopwords(valid[3].lower()))\n",
    "    valid_texts_2.append(remove_stopwords(valid[4].lower()))\n",
    "    valid_labels.append(int(valid[5]))\n",
    "\n",
    "print('Found %s texts in valid.csv' % len(valid_texts_2))\n",
    "\n",
    "texts_1 = []\n",
    "texts_2 = []\n",
    "labels = []\n",
    "ids = []\n",
    "\n",
    "texts_1.extend(train_texts_1)\n",
    "texts_1.extend(valid_texts_1)\n",
    "\n",
    "texts_2.extend(train_texts_2)\n",
    "texts_2.extend(valid_texts_2)\n",
    "\n",
    "labels.extend(train_labels)\n",
    "labels.extend(valid_labels)\n",
    "\n",
    "ids.extend(train_ids)\n",
    "ids.extend(valid_ids)\n",
    "\n",
    "test_texts_1 = []\n",
    "test_texts_2 = []\n",
    "test_labels = []\n",
    "test_ids = []\n",
    "\n",
    "qid1 = []\n",
    "for i in range(len(test_data)) :\n",
    "    qid1.append(test_data[i][1])\n",
    "unique_qid1 = list(np.unique(qid1))\n",
    "for id in unique_qid1 :\n",
    "    index = qid1.index(id)\n",
    "    test = test_data[index]\n",
    "    test_ids.append(test[0])\n",
    "    test_texts_1.append(remove_stopwords(test[3].lower()))\n",
    "    test_texts_2.append(remove_stopwords(test[4].lower()))\n",
    "    test_labels.append(int(test[5]))\n",
    "\n",
    "print('Found %s texts in test.csv' % len(test_texts_1))\n",
    "\n",
    "def remove_stop_words(document) :\n",
    "    tokens = [list(tokenize(doc, lower=True)) for doc in document]\n",
    "    tokens = [preprocess_string(\" \".join(doc), [remove_stopwords, stem_text]) for doc in tokens]\n",
    "    return tokens\n",
    "\n",
    "def remove_stop_words2(sentences) :\n",
    "    for i in range(len(sentences)) :\n",
    "        sentences[i] = remove_stopwords(sentences[i].lower())\n",
    "    \n",
    "    return sentences\n",
    "\n",
    "MAX_SEQUENCE_LENGTH = 100\n",
    "MAX_NB_WORDS = 30000\n",
    "FEATURE_DIMENSION = 100\n",
    "MIN_COUNT = 10\n",
    "WINDOW = 5\n",
    "EPOCHS = 20\n",
    "BATCH_SIZE = 256\n",
    "VALIDATION_SPLIT = 0.1\n",
    "\n",
    "text_corpus = []\n",
    "text_corpus.extend(texts_1)\n",
    "text_corpus.extend(texts_2)\n",
    "text_corpus.extend(test_texts_1)\n",
    "text_corpus.extend(test_texts_2)\n",
    "\n",
    "class ProcessedText:\n",
    "    def __init__(self, text):\n",
    "        self.text = text\n",
    "\n",
    "    def __iter__(self):\n",
    "        for line in self.text:\n",
    "            yield simple_preprocess(line)\n",
    "            \n",
    "ft_model = FastText(vector_size=FEATURE_DIMENSION, window=WINDOW, min_count=MIN_COUNT, epochs=10)\n",
    "ft_model.build_vocab(ProcessedText(text_corpus), update=False)\n",
    "ft_model.train(ProcessedText(text_corpus), total_examples=ft_model.corpus_count, epochs=EPOCHS)\n",
    "\n",
    "print('Found %s word vectors of FastText' % len(list(ft_model.wv.index_to_key)))\n",
    "\n",
    "tokenizer = Tokenizer(num_words=MAX_NB_WORDS)\n",
    "tokenizer.fit_on_texts(texts_1 + texts_2 + test_texts_1 + test_texts_2)\n",
    "\n",
    "sequences_1 = tokenizer.texts_to_sequences(texts_1)\n",
    "sequences_2 = tokenizer.texts_to_sequences(texts_2)\n",
    "test_sequences_1 = tokenizer.texts_to_sequences(test_texts_1)\n",
    "test_sequences_2 = tokenizer.texts_to_sequences(test_texts_2)\n",
    "\n",
    "word_index = tokenizer.word_index\n",
    "print('Found %s unique tokens' % len(word_index))\n",
    "\n",
    "data_1 = pad_sequences(sequences_1, maxlen=MAX_SEQUENCE_LENGTH)\n",
    "data_2 = pad_sequences(sequences_2, maxlen=MAX_SEQUENCE_LENGTH)\n",
    "labels = np.array(labels)\n",
    "ids = np.array(ids)\n",
    "print('Shape of data tensor:', data_1.shape)\n",
    "print('Shape of label tensor:', labels.shape)\n",
    "\n",
    "test_data_1 = pad_sequences(test_sequences_1, maxlen=MAX_SEQUENCE_LENGTH)\n",
    "test_data_2 = pad_sequences(test_sequences_2, maxlen=MAX_SEQUENCE_LENGTH)\n",
    "test_ids = np.array(test_ids)\n",
    "test_labels = np.array(test_labels)\n",
    "\n",
    "nb_words = min(MAX_NB_WORDS, len(word_index))+1\n",
    "\n",
    "embedding_matrix = np.zeros((nb_words, FEATURE_DIMENSION))\n",
    "for word, i in word_index.items():\n",
    "    if word in list(ft_model.wv.index_to_key) :\n",
    "        embedding_matrix[i] = ft_model.wv[word]\n",
    "        \n",
    "print('Null word embeddings: %d' % np.sum(np.sum(embedding_matrix, axis=1) == 0))\n"
   ]
  },
  {
   "attachments": {},
   "cell_type": "markdown",
   "metadata": {},
   "source": [
    "### FastText LSTM"
   ]
  },
  {
   "cell_type": "code",
   "execution_count": null,
   "metadata": {},
   "outputs": [],
   "source": [
    "num_lstm = np.random.randint(175, 275)\n",
    "num_dense = np.random.randint(100, 150)\n",
    "rate_drop_lstm = 0.15 + np.random.rand() * 0.25\n",
    "rate_drop_dense = 0.15 + np.random.rand() * 0.25\n",
    "\n",
    "embedding_layer = Embedding(input_dim=nb_words, \n",
    "                        output_dim=FEATURE_DIMENSION, \n",
    "                        weights=[embedding_matrix],\n",
    "                        input_length=MAX_SEQUENCE_LENGTH,\n",
    "                        trainable=False)\n",
    "\n",
    "lstm_layer = LSTM(units=256, return_sequences=True)\n",
    "\n",
    "sequence_1_input = Input(shape=(MAX_SEQUENCE_LENGTH,), dtype='int32')\n",
    "embedded_sequences_1 = embedding_layer(sequence_1_input)\n",
    "x1 = lstm_layer(embedded_sequences_1)\n",
    "\n",
    "sequence_2_input = Input(shape=(MAX_SEQUENCE_LENGTH,), dtype='int32')\n",
    "embedded_sequences_2 = embedding_layer(sequence_2_input)\n",
    "y1 = lstm_layer(embedded_sequences_2)\n",
    "\n",
    "merged = concatenate([x1, y1])\n",
    "merged = Dropout(rate_drop_dense)(merged)\n",
    "merged = BatchNormalization()(merged)\n",
    "\n",
    "merged = Dense(num_dense, activation='relu')(merged)\n",
    "merged = Dropout(rate_drop_dense)(merged)\n",
    "merged = BatchNormalization()(merged)\n",
    "\n",
    "preds = Dense(1, activation='sigmoid')(merged)\n",
    "\n",
    "model = Model(inputs=[sequence_1_input, sequence_2_input], \\\n",
    "        outputs=preds)\n",
    "\n",
    "model.compile(loss='mean_squared_error',\n",
    "        optimizer=tf.keras.optimizers.Adam(),\n",
    "        metrics=['accuracy'])\n",
    "\n",
    "print(model.summary())\n",
    "\n",
    "model.fit([data_1, data_2], labels, \n",
    "        validation_split = VALIDATION_SPLIT, \n",
    "        epochs = EPOCHS,\n",
    "        shuffle = True, \n",
    "        batch_size = BATCH_SIZE)\n",
    "\n",
    "model.save('./result/ft_lstm.h5')\n",
    "print(\"Mission completed\")"
   ]
  },
  {
   "attachments": {},
   "cell_type": "markdown",
   "metadata": {},
   "source": [
    "### FastText Bi-LSTM"
   ]
  },
  {
   "cell_type": "code",
   "execution_count": null,
   "metadata": {},
   "outputs": [],
   "source": [
    "first_sent_in = Input(shape=(MAX_SEQUENCE_LENGTH,), dtype='int32')\n",
    "second_sent_in = Input(shape=(MAX_SEQUENCE_LENGTH,), dtype='int32')\n",
    "\n",
    "embedding_layer =  Embedding(input_dim=nb_words, \n",
    "                        output_dim=FEATURE_DIMENSION, \n",
    "                        weights=[embedding_matrix],\n",
    "                        input_length=MAX_SEQUENCE_LENGTH, \n",
    "                        trainable=True, \n",
    "                        mask_zero=True)\n",
    "\n",
    "\n",
    "first_sent_embedding = embedding_layer(first_sent_in)\n",
    "second_sent_embedding = embedding_layer(second_sent_in)\n",
    "\n",
    "bilstm =  Bidirectional(LSTM(units=256, return_sequences=False))\n",
    "\n",
    "first_sent_encoded = bilstm(first_sent_embedding)\n",
    "second_sent_encoded = bilstm(second_sent_embedding)\n",
    "\n",
    "function = lambda x: 1 - K.abs(x[0] - x[1])\n",
    "output_shape = lambda x: x[0]\n",
    "merged = Lambda(function=function, \n",
    "            output_shape=output_shape, \n",
    "            name='L1_distance')([first_sent_encoded, second_sent_encoded])\n",
    "        \n",
    "predictions = Dense(1, activation='sigmoid', name='classification_layer')(merged)\n",
    "\n",
    "model = Model([first_sent_in, second_sent_in], predictions)\n",
    "\n",
    "model.compile(loss = 'binary_crossentropy', \n",
    "            optimizer = \"adam\", \n",
    "            metrics=[\"accuracy\"])\n",
    "\n",
    "print(model.summary())\n",
    "\n",
    "model.fit([data_1, data_2], labels, \n",
    "        validation_split = VALIDATION_SPLIT, \n",
    "        epochs = EPOCHS,\n",
    "        shuffle = True, \n",
    "        batch_size = BATCH_SIZE)\n",
    "\n",
    "model.save('./result/ft_bi_lstm.h5')\n",
    "print(\"Mission completed\")"
   ]
  },
  {
   "attachments": {},
   "cell_type": "markdown",
   "metadata": {},
   "source": [
    "## Load and Predict Model"
   ]
  },
  {
   "cell_type": "code",
   "execution_count": null,
   "metadata": {},
   "outputs": [],
   "source": [
    "model = tf.keras.models.load_model('./result/ft_bi_lstm.h5', compile=False)\n",
    "model.summary()"
   ]
  },
  {
   "cell_type": "code",
   "execution_count": null,
   "metadata": {},
   "outputs": [],
   "source": [
    "prediction = []\n",
    "count = 0\n",
    "for i in range(0, len(test_data_2)):\n",
    "    test = test_data_2[i]\n",
    "    pr = []\n",
    "    te = tf.convert_to_tensor([list(test)])\n",
    "    for train in data_2 :\n",
    "        tr = tf.convert_to_tensor([list(train)])\n",
    "        pr.append(model.predict([tr, te]))\n",
    "    prediction.append(pr)\n",
    "\n",
    "    if len(prediction) % 10 == 0 :\n",
    "        save_list(prediction, count)\n",
    "        count += 1"
   ]
  },
  {
   "cell_type": "code",
   "execution_count": null,
   "metadata": {},
   "outputs": [],
   "source": [
    "xpoints = unique_qid1\n",
    "ypoints = precision5\n",
    "fig, ax = plt.subplots()\n",
    "plt.plot(xpoints, ypoints)\n",
    "plt.xlabel('Test qid1')\n",
    "plt.ylabel('Precision')\n",
    "plt.title('Word2Vector - LSTM - Precision@5')\n",
    "plt.show()\n",
    "fig.savefig(\"wv_precision5.svg\", dpi=1200)"
   ]
  }
 ],
 "metadata": {
  "kernelspec": {
   "display_name": "Python 3",
   "language": "python",
   "name": "python3"
  },
  "language_info": {
   "name": "python",
   "version": "3.10.6 (main, Nov 14 2022, 16:10:14) [GCC 11.3.0]"
  },
  "orig_nbformat": 4,
  "vscode": {
   "interpreter": {
    "hash": "916dbcbb3f70747c44a77c7bcd40155683ae19c65e1c03b4aa3499c5328201f1"
   }
  }
 },
 "nbformat": 4,
 "nbformat_minor": 2
}
