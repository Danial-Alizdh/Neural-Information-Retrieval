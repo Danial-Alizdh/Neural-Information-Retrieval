{
 "cells": [
  {
   "cell_type": "markdown",
   "metadata": {},
   "source": [
    "# Library"
   ]
  },
  {
   "cell_type": "code",
   "execution_count": 1,
   "metadata": {},
   "outputs": [],
   "source": [
    "import numpy as np\n",
    "import csv\n",
    "from sentence_transformers import SentenceTransformer\n",
    "from math import sqrt, pow\n",
    "from gensim.parsing.preprocessing import remove_stopwords"
   ]
  },
  {
   "cell_type": "markdown",
   "metadata": {},
   "source": [
    "# Code"
   ]
  },
  {
   "cell_type": "markdown",
   "metadata": {},
   "source": [
    "## Read data"
   ]
  },
  {
   "cell_type": "code",
   "execution_count": 2,
   "metadata": {},
   "outputs": [],
   "source": [
    "test_data_AD = './Data/test_data.csv'\n",
    "train_data_AD = './Data/train_data.csv'\n",
    "valid_data_AD = './Data/valid_data.csv'"
   ]
  },
  {
   "cell_type": "code",
   "execution_count": 3,
   "metadata": {},
   "outputs": [],
   "source": [
    "#Test Data\n",
    "\n",
    "file = open(test_data_AD)\n",
    "\n",
    "csvreader = csv.reader(file)\n",
    "\n",
    "header = []\n",
    "header = next(csvreader)\n",
    "header\n",
    "\n",
    "test_data = []\n",
    "for row in csvreader:\n",
    "        test_data.append(row)\n",
    "test_data\n",
    "\n",
    "file.close()"
   ]
  },
  {
   "cell_type": "code",
   "execution_count": 4,
   "metadata": {},
   "outputs": [],
   "source": [
    "#Train Data\n",
    "\n",
    "file = open(train_data_AD)\n",
    "\n",
    "csvreader = csv.reader(file)\n",
    "\n",
    "header = []\n",
    "header = next(csvreader)\n",
    "header\n",
    "\n",
    "train_data = []\n",
    "for row in csvreader:\n",
    "        train_data.append(row)\n",
    "train_data\n",
    "\n",
    "file.close()"
   ]
  },
  {
   "cell_type": "code",
   "execution_count": 5,
   "metadata": {},
   "outputs": [],
   "source": [
    "#Validation Data\n",
    "\n",
    "file = open(valid_data_AD)\n",
    "\n",
    "csvreader = csv.reader(file)\n",
    "\n",
    "header = []\n",
    "header = next(csvreader)\n",
    "header\n",
    "\n",
    "valid_data = []\n",
    "for row in csvreader:\n",
    "        valid_data.append(row)\n",
    "valid_data\n",
    "\n",
    "file.close()"
   ]
  },
  {
   "cell_type": "markdown",
   "metadata": {},
   "source": [
    "## Unique Train data"
   ]
  },
  {
   "cell_type": "code",
   "execution_count": 6,
   "metadata": {},
   "outputs": [
    {
     "name": "stdout",
     "output_type": "stream",
     "text": [
      "37250\n",
      "16663\n"
     ]
    }
   ],
   "source": [
    "qid2 = []\n",
    "for i in range(len(train_data)) :\n",
    "    qid2.append(train_data[i][2])\n",
    "\n",
    "unique_res = list(np.unique(qid2))\n",
    "\n",
    "train_sentence = []\n",
    "for id in unique_res :\n",
    "    index = qid2.index(id)\n",
    "    train_sentence.append(train_data[index][4].lower())\n",
    "\n",
    "print(len(qid2))\n",
    "print(len(train_sentence))"
   ]
  },
  {
   "cell_type": "code",
   "execution_count": 7,
   "metadata": {},
   "outputs": [
    {
     "name": "stdout",
     "output_type": "stream",
     "text": [
      "16641\n",
      "16641\n"
     ]
    }
   ],
   "source": [
    "indexes = [train_sentence.index(x) for x in set(train_sentence)]\n",
    "train_sentence = list(set(train_sentence))\n",
    "\n",
    "print(len(indexes))\n",
    "print(len(train_sentence))"
   ]
  },
  {
   "cell_type": "code",
   "execution_count": 8,
   "metadata": {},
   "outputs": [
    {
     "data": {
      "text/plain": [
       "16641"
      ]
     },
     "execution_count": 8,
     "metadata": {},
     "output_type": "execute_result"
    }
   ],
   "source": [
    "unique_qid2 = []\n",
    "for i in indexes :\n",
    "    unique_qid2.append(unique_res[i])\n",
    "\n",
    "len(unique_qid2)"
   ]
  },
  {
   "cell_type": "markdown",
   "metadata": {},
   "source": [
    "## Unique Test questions"
   ]
  },
  {
   "cell_type": "code",
   "execution_count": 9,
   "metadata": {},
   "outputs": [
    {
     "name": "stdout",
     "output_type": "stream",
     "text": [
      "980\n",
      "146\n"
     ]
    }
   ],
   "source": [
    "qid1 = []\n",
    "for i in range(len(test_data)) :\n",
    "    qid1.append(test_data[i][1])\n",
    "\n",
    "unique_qid1 = list(np.unique(qid1))\n",
    "\n",
    "test_sentence = []\n",
    "for id in unique_qid1 :\n",
    "    index = qid1.index(id)\n",
    "    test_sentence.append(test_data[index][3].lower())\n",
    "\n",
    "print(len(qid1))\n",
    "print(len(test_sentence))"
   ]
  },
  {
   "cell_type": "markdown",
   "metadata": {},
   "source": [
    "## Unique Valid questions"
   ]
  },
  {
   "cell_type": "code",
   "execution_count": 10,
   "metadata": {},
   "outputs": [
    {
     "name": "stdout",
     "output_type": "stream",
     "text": [
      "173\n"
     ]
    }
   ],
   "source": [
    "qid3 = []\n",
    "for i in range(len(valid_data)) :\n",
    "    qid3.append(valid_data[i][1])\n",
    "\n",
    "qid3 = list(np.unique(qid3))\n",
    "\n",
    "print(len(qid3))"
   ]
  },
  {
   "cell_type": "markdown",
   "metadata": {},
   "source": [
    "## Assessment"
   ]
  },
  {
   "cell_type": "markdown",
   "metadata": {},
   "source": [
    "#### MAP"
   ]
  },
  {
   "cell_type": "code",
   "execution_count": 11,
   "metadata": {},
   "outputs": [],
   "source": [
    "def MAP(precision) :\n",
    "    if len(precision) == 0 :\n",
    "        return 0\n",
    "    \n",
    "    s = 0\n",
    "    for pre in precision :\n",
    "        if len(pre) > 0 :\n",
    "            x = 0\n",
    "            for i in pre :\n",
    "                x += i\n",
    "            s += ( x / len(pre) )\n",
    "        \n",
    "    return s / len(precision)"
   ]
  },
  {
   "cell_type": "markdown",
   "metadata": {},
   "source": [
    "#### P@k"
   ]
  },
  {
   "cell_type": "code",
   "execution_count": 12,
   "metadata": {},
   "outputs": [],
   "source": [
    "def Precision5(precision) :\n",
    "    if len(precision) < 5 :\n",
    "        return 0\n",
    "    return precision[4]"
   ]
  },
  {
   "cell_type": "code",
   "execution_count": 13,
   "metadata": {},
   "outputs": [],
   "source": [
    "def Precision10(precision) :\n",
    "    if len(precision) < 10 :\n",
    "        return 0\n",
    "    return precision[9]"
   ]
  },
  {
   "cell_type": "markdown",
   "metadata": {},
   "source": [
    "#### MRR"
   ]
  },
  {
   "cell_type": "code",
   "execution_count": 14,
   "metadata": {},
   "outputs": [],
   "source": [
    "def MRR(reciprocal_rank, size) :\n",
    "    if len(reciprocal_rank) == 0 :\n",
    "        return 0\n",
    "    \n",
    "    s = 0\n",
    "    for rr in reciprocal_rank :\n",
    "        s += rr\n",
    "\n",
    "    return s / size"
   ]
  },
  {
   "cell_type": "markdown",
   "metadata": {},
   "source": [
    "#### Calculate"
   ]
  },
  {
   "cell_type": "code",
   "execution_count": 15,
   "metadata": {},
   "outputs": [],
   "source": [
    "def assessment(vector) :\n",
    "    precision = []\n",
    "    reciprocal_rank = []\n",
    "    for i in range(len(vector)) :\n",
    "        sort_index = np.argsort(vector[i])[::-1]\n",
    "        sort_index = sort_index[0:10]\n",
    "\n",
    "        index_pos_list = [ j for j in range(len(qid1)) if qid1[j] == unique_qid1[i] ]\n",
    "        test_s = [test_data[j][-2].lower() for j in index_pos_list]\n",
    "    \n",
    "        pr = []\n",
    "        sum = 0\n",
    "        h = 0\n",
    "        flag = True\n",
    "        for index in sort_index :\n",
    "            for z in range(len(train_data)) :\n",
    "              if qid2[z] == unique_qid2[index] :\n",
    "                train_s = train_data[z][-2].lower()\n",
    "                if train_s in test_s :\n",
    "                    sum += 1\n",
    "                    pr.append(sum/(h + 1))\n",
    "                    if flag :\n",
    "                        flag = False\n",
    "                        reciprocal_rank.append(1/(h + 1))\n",
    "                h += 1\n",
    "        precision.append(pr)\n",
    "    \n",
    "    \n",
    "    for i in range(len(precision)) :\n",
    "        print('Precision@5 for query ' + str(i) + ' = ' + str(Precision5(precision[i])) )\n",
    "        print('Precision@10 for query ' + str(i) + ' = ' + str(Precision10(precision[i])) )\n",
    "    \n",
    "    print('MAP = ' + str(MAP(precision)) )\n",
    "    print('MRR = ' + str(MRR(reciprocal_rank, len(precision))) )"
   ]
  },
  {
   "cell_type": "markdown",
   "metadata": {},
   "source": [
    "## Preprocess"
   ]
  },
  {
   "cell_type": "code",
   "execution_count": 16,
   "metadata": {},
   "outputs": [],
   "source": [
    "def remove_stop_words(sentences) :\n",
    "    for i in range(len(sentences)) :\n",
    "        sentences[i] = remove_stopwords(sentences[i].lower())\n",
    "    \n",
    "    return sentences"
   ]
  },
  {
   "cell_type": "markdown",
   "metadata": {},
   "source": [
    "## Bert"
   ]
  },
  {
   "cell_type": "markdown",
   "metadata": {},
   "source": [
    "### Methods"
   ]
  },
  {
   "cell_type": "code",
   "execution_count": 17,
   "metadata": {},
   "outputs": [],
   "source": [
    "def squared_sum(x):\n",
    "  \"\"\" return 3 rounded square rooted value \"\"\"\n",
    " \n",
    "  return round(sqrt(sum([a*a for a in x])),3)\n",
    " \n",
    "def euclidean_distance(x,y):\n",
    "  \"\"\" return euclidean distance between two lists \"\"\"\n",
    " \n",
    "  return sqrt(sum(pow(a-b,2) for a, b in zip(x, y)))"
   ]
  },
  {
   "cell_type": "code",
   "execution_count": 18,
   "metadata": {},
   "outputs": [],
   "source": [
    "def cosine_similarity(x,y):\n",
    "  \"\"\" return cosine similarity between two lists \"\"\"\n",
    " \n",
    "  numerator = sum(a*b for a,b in zip(x,y))\n",
    "  denominator = squared_sum(x)*squared_sum(y)\n",
    "  return round(numerator/float(denominator),3)"
   ]
  },
  {
   "cell_type": "code",
   "execution_count": 19,
   "metadata": {},
   "outputs": [],
   "source": [
    "def bert(sentences) :\n",
    "  model = SentenceTransformer('bert-base-nli-mean-tokens')\n",
    "\n",
    "  sentence_embeddings = model.encode(sentences)\n",
    "\n",
    "  return sentence_embeddings"
   ]
  },
  {
   "cell_type": "markdown",
   "metadata": {},
   "source": [
    "### Calculate"
   ]
  },
  {
   "cell_type": "code",
   "execution_count": 20,
   "metadata": {},
   "outputs": [],
   "source": [
    "train_sentences = remove_stop_words(train_sentence)\n",
    "\n",
    "#se : sentence_embeddings\n",
    "train_se = bert(train_sentences)"
   ]
  },
  {
   "cell_type": "code",
   "execution_count": 21,
   "metadata": {},
   "outputs": [],
   "source": [
    "test_sentences = remove_stop_words(test_sentence)\n",
    "\n",
    "#se : sentence_embeddings\n",
    "test_se = bert(test_sentences)"
   ]
  },
  {
   "cell_type": "code",
   "execution_count": 22,
   "metadata": {},
   "outputs": [],
   "source": [
    "cos = []\n",
    "for test in test_se :\n",
    "  c = []\n",
    "  for train in train_se :\n",
    "    c.append(cosine_similarity(test, train))\n",
    "  \n",
    "  cos.append(c)"
   ]
  },
  {
   "cell_type": "code",
   "execution_count": 23,
   "metadata": {},
   "outputs": [
    {
     "name": "stdout",
     "output_type": "stream",
     "text": [
      "Precision@5 for query 0 = 0\n",
      "Precision@10 for query 0 = 0\n",
      "Precision@5 for query 1 = 0\n",
      "Precision@10 for query 1 = 0\n",
      "Precision@5 for query 2 = 0\n",
      "Precision@10 for query 2 = 0\n",
      "Precision@5 for query 3 = 0\n",
      "Precision@10 for query 3 = 0\n",
      "Precision@5 for query 4 = 0\n",
      "Precision@10 for query 4 = 0\n",
      "Precision@5 for query 5 = 0\n",
      "Precision@10 for query 5 = 0\n",
      "Precision@5 for query 6 = 0\n",
      "Precision@10 for query 6 = 0\n",
      "Precision@5 for query 7 = 0\n",
      "Precision@10 for query 7 = 0\n",
      "Precision@5 for query 8 = 0\n",
      "Precision@10 for query 8 = 0\n",
      "Precision@5 for query 9 = 0\n",
      "Precision@10 for query 9 = 0\n",
      "Precision@5 for query 10 = 0\n",
      "Precision@10 for query 10 = 0\n",
      "Precision@5 for query 11 = 0\n",
      "Precision@10 for query 11 = 0\n",
      "Precision@5 for query 12 = 0\n",
      "Precision@10 for query 12 = 0\n",
      "Precision@5 for query 13 = 0\n",
      "Precision@10 for query 13 = 0\n",
      "Precision@5 for query 14 = 0\n",
      "Precision@10 for query 14 = 0\n",
      "Precision@5 for query 15 = 0\n",
      "Precision@10 for query 15 = 0\n",
      "Precision@5 for query 16 = 0\n",
      "Precision@10 for query 16 = 0\n",
      "Precision@5 for query 17 = 0\n",
      "Precision@10 for query 17 = 0\n",
      "Precision@5 for query 18 = 0\n",
      "Precision@10 for query 18 = 0\n",
      "Precision@5 for query 19 = 0\n",
      "Precision@10 for query 19 = 0\n",
      "Precision@5 for query 20 = 0\n",
      "Precision@10 for query 20 = 0\n",
      "Precision@5 for query 21 = 0\n",
      "Precision@10 for query 21 = 0\n",
      "Precision@5 for query 22 = 0\n",
      "Precision@10 for query 22 = 0\n",
      "Precision@5 for query 23 = 0\n",
      "Precision@10 for query 23 = 0\n",
      "Precision@5 for query 24 = 0\n",
      "Precision@10 for query 24 = 0\n",
      "Precision@5 for query 25 = 0\n",
      "Precision@10 for query 25 = 0\n",
      "Precision@5 for query 26 = 0\n",
      "Precision@10 for query 26 = 0\n",
      "Precision@5 for query 27 = 0\n",
      "Precision@10 for query 27 = 0\n",
      "Precision@5 for query 28 = 0\n",
      "Precision@10 for query 28 = 0\n",
      "Precision@5 for query 29 = 0\n",
      "Precision@10 for query 29 = 0\n",
      "Precision@5 for query 30 = 0\n",
      "Precision@10 for query 30 = 0\n",
      "Precision@5 for query 31 = 0\n",
      "Precision@10 for query 31 = 0\n",
      "Precision@5 for query 32 = 0\n",
      "Precision@10 for query 32 = 0\n",
      "Precision@5 for query 33 = 0\n",
      "Precision@10 for query 33 = 0\n",
      "Precision@5 for query 34 = 0\n",
      "Precision@10 for query 34 = 0\n",
      "Precision@5 for query 35 = 0\n",
      "Precision@10 for query 35 = 0\n",
      "Precision@5 for query 36 = 0\n",
      "Precision@10 for query 36 = 0\n",
      "Precision@5 for query 37 = 0\n",
      "Precision@10 for query 37 = 0\n",
      "Precision@5 for query 38 = 0\n",
      "Precision@10 for query 38 = 0\n",
      "Precision@5 for query 39 = 0\n",
      "Precision@10 for query 39 = 0\n",
      "Precision@5 for query 40 = 0\n",
      "Precision@10 for query 40 = 0\n",
      "Precision@5 for query 41 = 0\n",
      "Precision@10 for query 41 = 0\n",
      "Precision@5 for query 42 = 0\n",
      "Precision@10 for query 42 = 0\n",
      "Precision@5 for query 43 = 0\n",
      "Precision@10 for query 43 = 0\n",
      "Precision@5 for query 44 = 0\n",
      "Precision@10 for query 44 = 0\n",
      "Precision@5 for query 45 = 0\n",
      "Precision@10 for query 45 = 0\n",
      "Precision@5 for query 46 = 0\n",
      "Precision@10 for query 46 = 0\n",
      "Precision@5 for query 47 = 0\n",
      "Precision@10 for query 47 = 0\n",
      "Precision@5 for query 48 = 0\n",
      "Precision@10 for query 48 = 0\n",
      "Precision@5 for query 49 = 0\n",
      "Precision@10 for query 49 = 0\n",
      "Precision@5 for query 50 = 0\n",
      "Precision@10 for query 50 = 0\n",
      "Precision@5 for query 51 = 0\n",
      "Precision@10 for query 51 = 0\n",
      "Precision@5 for query 52 = 0\n",
      "Precision@10 for query 52 = 0\n",
      "Precision@5 for query 53 = 0\n",
      "Precision@10 for query 53 = 0\n",
      "Precision@5 for query 54 = 0\n",
      "Precision@10 for query 54 = 0\n",
      "Precision@5 for query 55 = 0\n",
      "Precision@10 for query 55 = 0\n",
      "Precision@5 for query 56 = 0\n",
      "Precision@10 for query 56 = 0\n",
      "Precision@5 for query 57 = 0\n",
      "Precision@10 for query 57 = 0\n",
      "Precision@5 for query 58 = 0\n",
      "Precision@10 for query 58 = 0\n",
      "Precision@5 for query 59 = 0\n",
      "Precision@10 for query 59 = 0\n",
      "Precision@5 for query 60 = 1.25\n",
      "Precision@10 for query 60 = 1.6666666666666667\n",
      "Precision@5 for query 61 = 0\n",
      "Precision@10 for query 61 = 0\n",
      "Precision@5 for query 62 = 0\n",
      "Precision@10 for query 62 = 0\n",
      "Precision@5 for query 63 = 0\n",
      "Precision@10 for query 63 = 0\n",
      "Precision@5 for query 64 = 0\n",
      "Precision@10 for query 64 = 0\n",
      "Precision@5 for query 65 = 0.8333333333333334\n",
      "Precision@10 for query 65 = 1.4285714285714286\n",
      "Precision@5 for query 66 = 0\n",
      "Precision@10 for query 66 = 0\n",
      "Precision@5 for query 67 = 2.5\n",
      "Precision@10 for query 67 = 5.0\n",
      "Precision@5 for query 68 = 0\n",
      "Precision@10 for query 68 = 0\n",
      "Precision@5 for query 69 = 0\n",
      "Precision@10 for query 69 = 0\n",
      "Precision@5 for query 70 = 0\n",
      "Precision@10 for query 70 = 0\n",
      "Precision@5 for query 71 = 0\n",
      "Precision@10 for query 71 = 0\n",
      "Precision@5 for query 72 = 0\n",
      "Precision@10 for query 72 = 0\n",
      "Precision@5 for query 73 = 0\n",
      "Precision@10 for query 73 = 0\n",
      "Precision@5 for query 74 = 0\n",
      "Precision@10 for query 74 = 0\n",
      "Precision@5 for query 75 = 0\n",
      "Precision@10 for query 75 = 0\n",
      "Precision@5 for query 76 = 0\n",
      "Precision@10 for query 76 = 0\n",
      "Precision@5 for query 77 = 0\n",
      "Precision@10 for query 77 = 0\n",
      "Precision@5 for query 78 = 0\n",
      "Precision@10 for query 78 = 0\n",
      "Precision@5 for query 79 = 0\n",
      "Precision@10 for query 79 = 0\n",
      "Precision@5 for query 80 = 0\n",
      "Precision@10 for query 80 = 0\n",
      "Precision@5 for query 81 = 0\n",
      "Precision@10 for query 81 = 0\n",
      "Precision@5 for query 82 = 0\n",
      "Precision@10 for query 82 = 0\n",
      "Precision@5 for query 83 = 0\n",
      "Precision@10 for query 83 = 0\n",
      "Precision@5 for query 84 = 0.8333333333333334\n",
      "Precision@10 for query 84 = 0\n",
      "Precision@5 for query 85 = 0\n",
      "Precision@10 for query 85 = 0\n",
      "Precision@5 for query 86 = 0\n",
      "Precision@10 for query 86 = 0\n",
      "Precision@5 for query 87 = 0\n",
      "Precision@10 for query 87 = 0\n",
      "Precision@5 for query 88 = 1.25\n",
      "Precision@10 for query 88 = 0\n",
      "Precision@5 for query 89 = 0\n",
      "Precision@10 for query 89 = 0\n",
      "Precision@5 for query 90 = 0\n",
      "Precision@10 for query 90 = 0\n",
      "Precision@5 for query 91 = 0\n",
      "Precision@10 for query 91 = 0\n",
      "Precision@5 for query 92 = 0\n",
      "Precision@10 for query 92 = 0\n",
      "Precision@5 for query 93 = 0\n",
      "Precision@10 for query 93 = 0\n",
      "Precision@5 for query 94 = 0\n",
      "Precision@10 for query 94 = 0\n",
      "Precision@5 for query 95 = 0\n",
      "Precision@10 for query 95 = 0\n",
      "Precision@5 for query 96 = 0\n",
      "Precision@10 for query 96 = 0\n",
      "Precision@5 for query 97 = 0\n",
      "Precision@10 for query 97 = 0\n",
      "Precision@5 for query 98 = 0\n",
      "Precision@10 for query 98 = 0\n",
      "Precision@5 for query 99 = 0\n",
      "Precision@10 for query 99 = 0\n",
      "Precision@5 for query 100 = 0\n",
      "Precision@10 for query 100 = 0\n",
      "Precision@5 for query 101 = 0\n",
      "Precision@10 for query 101 = 0\n",
      "Precision@5 for query 102 = 0\n",
      "Precision@10 for query 102 = 0\n",
      "Precision@5 for query 103 = 0\n",
      "Precision@10 for query 103 = 0\n",
      "Precision@5 for query 104 = 0\n",
      "Precision@10 for query 104 = 0\n",
      "Precision@5 for query 105 = 0\n",
      "Precision@10 for query 105 = 0\n",
      "Precision@5 for query 106 = 0\n",
      "Precision@10 for query 106 = 0\n",
      "Precision@5 for query 107 = 0\n",
      "Precision@10 for query 107 = 0\n",
      "Precision@5 for query 108 = 0\n",
      "Precision@10 for query 108 = 0\n",
      "Precision@5 for query 109 = 0\n",
      "Precision@10 for query 109 = 0\n",
      "Precision@5 for query 110 = 0\n",
      "Precision@10 for query 110 = 0\n",
      "Precision@5 for query 111 = 0\n",
      "Precision@10 for query 111 = 0\n",
      "Precision@5 for query 112 = 0\n",
      "Precision@10 for query 112 = 0\n",
      "Precision@5 for query 113 = 0\n",
      "Precision@10 for query 113 = 0\n",
      "Precision@5 for query 114 = 0\n",
      "Precision@10 for query 114 = 0\n",
      "Precision@5 for query 115 = 0\n",
      "Precision@10 for query 115 = 0\n",
      "Precision@5 for query 116 = 0\n",
      "Precision@10 for query 116 = 0\n",
      "Precision@5 for query 117 = 0\n",
      "Precision@10 for query 117 = 0\n",
      "Precision@5 for query 118 = 0\n",
      "Precision@10 for query 118 = 0\n",
      "Precision@5 for query 119 = 0\n",
      "Precision@10 for query 119 = 0\n",
      "Precision@5 for query 120 = 0\n",
      "Precision@10 for query 120 = 0\n",
      "Precision@5 for query 121 = 0\n",
      "Precision@10 for query 121 = 0\n",
      "Precision@5 for query 122 = 0\n",
      "Precision@10 for query 122 = 0\n",
      "Precision@5 for query 123 = 0\n",
      "Precision@10 for query 123 = 0\n",
      "Precision@5 for query 124 = 0\n",
      "Precision@10 for query 124 = 0\n",
      "Precision@5 for query 125 = 0\n",
      "Precision@10 for query 125 = 0\n",
      "Precision@5 for query 126 = 0\n",
      "Precision@10 for query 126 = 0\n",
      "Precision@5 for query 127 = 0.5\n",
      "Precision@10 for query 127 = 0\n",
      "Precision@5 for query 128 = 0\n",
      "Precision@10 for query 128 = 0\n",
      "Precision@5 for query 129 = 0\n",
      "Precision@10 for query 129 = 0\n",
      "Precision@5 for query 130 = 0\n",
      "Precision@10 for query 130 = 0\n",
      "Precision@5 for query 131 = 0\n",
      "Precision@10 for query 131 = 0\n",
      "Precision@5 for query 132 = 0\n",
      "Precision@10 for query 132 = 0\n",
      "Precision@5 for query 133 = 0\n",
      "Precision@10 for query 133 = 0\n",
      "Precision@5 for query 134 = 0\n",
      "Precision@10 for query 134 = 0\n",
      "Precision@5 for query 135 = 0\n",
      "Precision@10 for query 135 = 0\n",
      "Precision@5 for query 136 = 0\n",
      "Precision@10 for query 136 = 0\n",
      "Precision@5 for query 137 = 0\n",
      "Precision@10 for query 137 = 0\n",
      "Precision@5 for query 138 = 0\n",
      "Precision@10 for query 138 = 0\n",
      "Precision@5 for query 139 = 0\n",
      "Precision@10 for query 139 = 0\n",
      "Precision@5 for query 140 = 0\n",
      "Precision@10 for query 140 = 0\n",
      "Precision@5 for query 141 = 0\n",
      "Precision@10 for query 141 = 0\n",
      "Precision@5 for query 142 = 0\n",
      "Precision@10 for query 142 = 0\n",
      "Precision@5 for query 143 = 0\n",
      "Precision@10 for query 143 = 0\n",
      "Precision@5 for query 144 = 0\n",
      "Precision@10 for query 144 = 0\n",
      "Precision@5 for query 145 = 0\n",
      "Precision@10 for query 145 = 0\n",
      "MAP = 0.7925634920634924\n",
      "MRR = 0.5345661375661376\n"
     ]
    }
   ],
   "source": [
    "assessment(cos)"
   ]
  }
 ],
 "metadata": {
  "kernelspec": {
   "display_name": "Python 3.10.6 64-bit",
   "language": "python",
   "name": "python3"
  },
  "language_info": {
   "codemirror_mode": {
    "name": "ipython",
    "version": 3
   },
   "file_extension": ".py",
   "mimetype": "text/x-python",
   "name": "python",
   "nbconvert_exporter": "python",
   "pygments_lexer": "ipython3",
   "version": "3.10.6 (main, Nov  2 2022, 18:53:38) [GCC 11.3.0]"
  },
  "orig_nbformat": 4,
  "vscode": {
   "interpreter": {
    "hash": "916dbcbb3f70747c44a77c7bcd40155683ae19c65e1c03b4aa3499c5328201f1"
   }
  }
 },
 "nbformat": 4,
 "nbformat_minor": 2
}
